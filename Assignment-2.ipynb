{
 "cells": [
  {
   "cell_type": "markdown",
   "id": "b4cc4e5c",
   "metadata": {},
   "source": [
    "1) Write a program to accept two numbers from the user and calculate multiplication, division"
   ]
  },
  {
   "cell_type": "code",
   "execution_count": 6,
   "id": "ac6bc9ce",
   "metadata": {},
   "outputs": [
    {
     "name": "stdout",
     "output_type": "stream",
     "text": [
      "number 1 :- 5\n",
      "number 2 :- 6\n",
      "Multiplication : 30\n",
      "Division : 0.8333333333333334\n"
     ]
    }
   ],
   "source": [
    "x=int(input(\"number 1 :- \"))\n",
    "y=int(input(\"number 2 :- \"))\n",
    "def muldi(x,y):\n",
    "    print(\"Multiplication : {}\".format(x*y))\n",
    "    print(\"Division : {}\".format(x/y))\n",
    "muldi(x,y)"
   ]
  },
  {
   "cell_type": "markdown",
   "id": "b2e350a7",
   "metadata": {},
   "source": [
    "2) Write a python program to print the characters from a string that are present at an even index"
   ]
  },
  {
   "cell_type": "code",
   "execution_count": 7,
   "id": "b1e01ec0",
   "metadata": {},
   "outputs": [
    {
     "name": "stdout",
     "output_type": "stream",
     "text": [
      "ameem\n",
      "aem\n"
     ]
    }
   ],
   "source": [
    "name=input()\n",
    "new=\"\"\n",
    "for letters in range(0,len(name)):\n",
    "    if letters%2==0:\n",
    "        new+=name[letters]\n",
    "print(new)"
   ]
  },
  {
   "cell_type": "markdown",
   "id": "dc61da86",
   "metadata": {},
   "source": [
    "3) Write a python program to print the characters from a string that are present at an odd index"
   ]
  },
  {
   "cell_type": "code",
   "execution_count": 1,
   "id": "c99c5408",
   "metadata": {},
   "outputs": [
    {
     "name": "stdout",
     "output_type": "stream",
     "text": [
      "ameem\n",
      "me\n"
     ]
    }
   ],
   "source": [
    "name=input()\n",
    "new=\"\"\n",
    "for letters in range(0,len(name)):\n",
    "    if letters%2!=0:\n",
    "        new+=name[letters]\n",
    "print(new)"
   ]
  },
  {
   "cell_type": "markdown",
   "id": "135b88c8",
   "metadata": {},
   "source": [
    "4) Write a python program which will print the sum of the two numbers if the two numbers are even or it will print the difference of two numbers"
   ]
  },
  {
   "cell_type": "code",
   "execution_count": 5,
   "id": "4262fab3",
   "metadata": {},
   "outputs": [
    {
     "name": "stdout",
     "output_type": "stream",
     "text": [
      "Number 1 :- 8\n",
      "Number 2 :- 1\n",
      "Difference of 8 and 1 is 7\n"
     ]
    }
   ],
   "source": [
    "num1=int(input(\"Number 1 :- \"))\n",
    "num2=int(input(\"Number 2 :- \"))\n",
    "if num1 and num2%2==0:\n",
    "    print(\"Sum of {} and {} is {}\".format(num1,num2,num1+num2))\n",
    "else:\n",
    "    print(\"Difference of {} and {} is {}\".format(num1,num2,num1-num2))"
   ]
  },
  {
   "cell_type": "markdown",
   "id": "d779ce13",
   "metadata": {},
   "source": [
    "5) Write a python program to convert all even indexed alphabets to upper and odd indexed char to lower"
   ]
  },
  {
   "cell_type": "code",
   "execution_count": 7,
   "id": "1ef21401",
   "metadata": {},
   "outputs": [
    {
     "name": "stdout",
     "output_type": "stream",
     "text": [
      "Type here : I love India\n",
      "I LoVe iNdIa\n"
     ]
    }
   ],
   "source": [
    "name=input(\"Type here : \")\n",
    "new=\"\"\n",
    "for i in range(0,len(name)):\n",
    "    if i%2==0:\n",
    "        new+=name[i].upper()\n",
    "    else:\n",
    "        new+=name[i].lower()\n",
    "        \n",
    "print(new)"
   ]
  },
  {
   "cell_type": "markdown",
   "id": "5efbf464",
   "metadata": {},
   "source": [
    "6) Write a python program which will print True if the input number is divisible by 5 or else False"
   ]
  },
  {
   "cell_type": "code",
   "execution_count": 13,
   "id": "b685d98d",
   "metadata": {},
   "outputs": [
    {
     "name": "stdout",
     "output_type": "stream",
     "text": [
      "Enter any number : 155\n",
      "True\n"
     ]
    }
   ],
   "source": [
    "num=int(input(\"Enter any number : \"))\n",
    "if num%5==0:\n",
    "    print(True)\n",
    "else:\n",
    "    print(False)"
   ]
  },
  {
   "cell_type": "markdown",
   "id": "ca450b57",
   "metadata": {},
   "source": [
    "7) Given two integer numbers return their product only if the product is greater than 1000, else return their sum"
   ]
  },
  {
   "cell_type": "code",
   "execution_count": 22,
   "id": "05a4d95f",
   "metadata": {},
   "outputs": [
    {
     "name": "stdout",
     "output_type": "stream",
     "text": [
      "Number 1 :- 55\n",
      "Number 2 :- 8\n"
     ]
    },
    {
     "data": {
      "text/plain": [
       "'The sum of 55 and 8 is  63'"
      ]
     },
     "execution_count": 22,
     "metadata": {},
     "output_type": "execute_result"
    }
   ],
   "source": [
    "num1=int(input(\"Number 1 :- \"))\n",
    "num2=int(input(\"Number 2 :- \"))\n",
    "\n",
    "def pro(num1,num2):\n",
    "    if num1*num2 > 1000:\n",
    "        return \"The product of {} and {} is  {}\".format(num1,num2,num1*num2)\n",
    "    else:\n",
    "        return \"The sum of {} and {} is  {}\".format(num1,num2,num1+num2)\n",
    "\n",
    "pro(num1,num2)"
   ]
  },
  {
   "cell_type": "markdown",
   "id": "b34e4690",
   "metadata": {},
   "source": [
    "8) Given two strings x, y writes a program to return a new string made of x and y’s first, middle, and last characters\n",
    "Example:\n",
    "Input\n",
    "X=” pytho”\n",
    "Y=” javas”\n",
    "Output\n",
    "” pjtvos”"
   ]
  },
  {
   "cell_type": "code",
   "execution_count": 5,
   "id": "19694d19",
   "metadata": {},
   "outputs": [
    {
     "name": "stdout",
     "output_type": "stream",
     "text": [
      "pytho\n",
      "javas\n",
      "\n",
      "\n",
      "pjtvos\n"
     ]
    }
   ],
   "source": [
    "x=input()\n",
    "y=input()\n",
    "def slicing(x,y):\n",
    "    ma=int(len(x)/2)\n",
    "    mb=int(len(y)/2)\n",
    "    print(\"\\n\")\n",
    "    print(x[0]+y[0]+x[ma]+y[mb]+x[-1]+y[-1])\n",
    "slicing(x,y)"
   ]
  },
  {
   "cell_type": "markdown",
   "id": "c9be0aad",
   "metadata": {},
   "source": [
    "9) Write a python program to take three names as input from a user in the single input () function call"
   ]
  },
  {
   "cell_type": "code",
   "execution_count": 15,
   "id": "ec5b1be9",
   "metadata": {},
   "outputs": [
    {
     "name": "stdout",
     "output_type": "stream",
     "text": [
      "Please enter your names here : person1 person2 person3 \n",
      " person1\n",
      " person2\n",
      " person3\n"
     ]
    }
   ],
   "source": [
    "name=input(\"Please enter your names here : \")\n",
    "div=name.split()\n",
    "for names in div:\n",
    "    print(\" {}\".format(names))"
   ]
  },
  {
   "cell_type": "markdown",
   "id": "3c65a40c",
   "metadata": {},
   "source": [
    "10) Write a Python program to get a string from a given string where all occurrences of its first char have been changed to '@', except the first char itself"
   ]
  },
  {
   "cell_type": "code",
   "execution_count": 4,
   "id": "1fa75df8",
   "metadata": {},
   "outputs": [
    {
     "name": "stdout",
     "output_type": "stream",
     "text": [
      "Please enter your names here : abcabab\n",
      "abc@b@b\n"
     ]
    }
   ],
   "source": [
    "name=input(\"Please enter your names here : \")\n",
    "a=name[0]\n",
    "b=name[1:]\n",
    "c=b.replace(a,\"@\")\n",
    "print(a+c)"
   ]
  },
  {
   "cell_type": "markdown",
   "id": "562d96f3",
   "metadata": {},
   "source": [
    "11) Write a Python program to add 'ing' at the end of a given string (string length should be equal to or more than 3). If the given string already ends with 'ing' then add 'ly' instead. If the string length of the given string is less than 3, leave it unchanged\n"
   ]
  },
  {
   "cell_type": "code",
   "execution_count": 11,
   "id": "8841bf31",
   "metadata": {},
   "outputs": [
    {
     "name": "stdout",
     "output_type": "stream",
     "text": [
      "Please enter the string here : road\n",
      "roading\n"
     ]
    }
   ],
   "source": [
    "name=input(\"Please enter the string here : \")\n",
    "\n",
    "if len(name)<3:\n",
    "    print(name)\n",
    "elif len(name)>=3:\n",
    "    if name[-3:]==\"ing\":\n",
    "        print(name.replace(\"ing\",\"ly\"))\n",
    "    else:\n",
    "        print(name+\"ing\")"
   ]
  },
  {
   "cell_type": "markdown",
   "id": "a6dff6ec",
   "metadata": {},
   "source": [
    "12) Write a python program that accepts two inputs num1 and num2 print True if one of them is 10 or if their sum is 10 otherwise print False"
   ]
  },
  {
   "cell_type": "code",
   "execution_count": 14,
   "id": "f35bb27c",
   "metadata": {},
   "outputs": [
    {
     "name": "stdout",
     "output_type": "stream",
     "text": [
      "num1 : 5\n",
      "num2 : 5\n",
      "True\n"
     ]
    }
   ],
   "source": [
    "num1=int(input(\"num1 : \"))\n",
    "num2=int(input(\"num2 : \"))\n",
    "if num1==10 or num2==10 or num1+num2==10:\n",
    "    print(True)\n",
    "else:\n",
    "    print(False)"
   ]
  },
  {
   "cell_type": "markdown",
   "id": "2253e753",
   "metadata": {},
   "source": [
    "13) Write a python program that accepts three inputs x, y and z print True if x*y>z otherwise False\n"
   ]
  },
  {
   "cell_type": "code",
   "execution_count": 16,
   "id": "a62be41e",
   "metadata": {},
   "outputs": [
    {
     "name": "stdout",
     "output_type": "stream",
     "text": [
      "8\n",
      "8\n",
      "64\n",
      "False\n"
     ]
    }
   ],
   "source": [
    "x=int(input())\n",
    "y=int(input())\n",
    "z=int(input())\n",
    "if x*y>z:\n",
    "    print(True)\n",
    "else:\n",
    "    print(False)"
   ]
  },
  {
   "cell_type": "markdown",
   "id": "0ac1bd58",
   "metadata": {},
   "source": [
    "14) Write a python program that accepts two strings inputs return True depending on whether the total number of characters in the first string is equal to the total number of characters in the second string\n"
   ]
  },
  {
   "cell_type": "code",
   "execution_count": 17,
   "id": "25df67cd",
   "metadata": {},
   "outputs": [
    {
     "name": "stdout",
     "output_type": "stream",
     "text": [
      "teja\n",
      "teju\n",
      "True\n"
     ]
    }
   ],
   "source": [
    "string1=input()\n",
    "string2=input()\n",
    "if len(string1)==len(string2):\n",
    "    print(True)\n",
    "else:\n",
    "    print(False)"
   ]
  },
  {
   "cell_type": "markdown",
   "id": "b1b6f9c3",
   "metadata": {},
   "source": [
    "15) Write a python program that takes a string input, we'll say that the front is the first three characters of the string. If the string length is less than three characters, the front is whatever is there. Return a new string, which is three copies of the front"
   ]
  },
  {
   "cell_type": "code",
   "execution_count": 19,
   "id": "777798fb",
   "metadata": {},
   "outputs": [
    {
     "name": "stdout",
     "output_type": "stream",
     "text": [
      "teja\n",
      "tej tej tej\n"
     ]
    }
   ],
   "source": [
    "string=input()\n",
    "if len(string)<3:\n",
    "    print(string)\n",
    "else:\n",
    "    front=string[0:3]\n",
    "    print(front,front,front)\n"
   ]
  },
  {
   "cell_type": "markdown",
   "id": "c88bfb4b",
   "metadata": {},
   "source": [
    "16) Write a python program that takes in a word and determines whether or not it is plural. A plural word is one that ends in \"s\".\n"
   ]
  },
  {
   "cell_type": "code",
   "execution_count": 21,
   "id": "472678b3",
   "metadata": {},
   "outputs": [
    {
     "name": "stdout",
     "output_type": "stream",
     "text": [
      "apples\n",
      "The given word apples is plural \n"
     ]
    }
   ],
   "source": [
    "word=input()\n",
    "if word[-1]==\"s\" or word[-1]==\"S\":\n",
    "    print(\"The given word {} is plural \".format(word))\n",
    "else:\n",
    "    print(\"The given word {} is not a plural \".format(word))"
   ]
  },
  {
   "cell_type": "markdown",
   "id": "352ea2e2",
   "metadata": {},
   "source": [
    "17) A bartender is writing a simple program to determine whether he should serve drinks to someone. He only serves drinks to people 18 and older and when he's not on break (True means break and False means not a break time). Given the person's age, and whether break time is in session, create a python program which prints whether he should serve drinks or not."
   ]
  },
  {
   "cell_type": "code",
   "execution_count": 22,
   "id": "701e7c1b",
   "metadata": {},
   "outputs": [
    {
     "name": "stdout",
     "output_type": "stream",
     "text": [
      "Enter yourTeja\n",
      "please provide your age : 21\n",
      "provide bar tender is in break or not?\n",
      "type y or nn\n",
      "Bartender is not taking Break!\n",
      "The bartender serves drink to Teja\n"
     ]
    }
   ],
   "source": [
    "name=input(\"Enter your\")\n",
    "age=int(input(\"please provide your age : \"))\n",
    "print(\"provide bar tender is in break or not?\")\n",
    "b=input(\"type y or n\")\n",
    "if b==\"n\" or b==\"N\":\n",
    "    print(\"Bartender is not taking Break!\")\n",
    "    if age >=18:\n",
    "        print(\"The bartender serves drink to {}\".format(name))\n",
    "    else:\n",
    "        print(\"The bartender will not serves drink to {}\".format(name))\n",
    "if b==\"Y\" or b==\"y\":\n",
    "    print(\"The bartender serves drink to {}\".format(name))"
   ]
  },
  {
   "cell_type": "markdown",
   "id": "486fd54d",
   "metadata": {},
   "source": [
    "18) Manoj Kumar has family and friends. Help him remind them who is who. Given a string with a name, return the relation of that person to Manoj Kumar.\n"
   ]
  },
  {
   "cell_type": "code",
   "execution_count": 10,
   "id": "5db8512c",
   "metadata": {},
   "outputs": [
    {
     "name": "stdout",
     "output_type": "stream",
     "text": [
      "Please enter your name : tarun\n",
      "tarun is Brother to Manoj Kumar.\n"
     ]
    }
   ],
   "source": [
    "person=input(\"Please enter your name : \")\n",
    "\n",
    "data={\"shiva\":\"Father\",\"letha\":\"Mother\",\"vasavi\":\"Sister\",\"tarun\":\"Brother\"}\n",
    "if person in data:\n",
    "    print(\"{} is {} to Manoj Kumar.\".format(person,data[person]))\n",
    "else:\n",
    "    relation=input(\"Please provide your relation with Manoj Kumar : \")\n",
    "    if relation!=\"friend\" or relation!=\"Friend\":\n",
    "        data.update({person:relation})\n",
    "        print(\"{} is {} to Manoj Kumar.\".format(person,data[person]))\n",
    "    else:\n",
    "        print(\"{} is friend to Manoj Kumar.\".format(person))"
   ]
  },
  {
   "cell_type": "markdown",
   "id": "b53490e1",
   "metadata": {},
   "source": [
    "19) Write a python program that takes a string, breaks it up and returns it with vowels first, consonants second. For any character that's not a vowel (like special characters or spaces), treat them like consonants"
   ]
  },
  {
   "cell_type": "code",
   "execution_count": 13,
   "id": "04677c01",
   "metadata": {},
   "outputs": [
    {
     "name": "stdout",
     "output_type": "stream",
     "text": [
      "&abcDEFghi@\n",
      "aEi&bcDFgh@\n"
     ]
    }
   ],
   "source": [
    "string=input()\n",
    "v=\"\"\n",
    "c=\"\"\n",
    "for letters in string:\n",
    "    if letters in [\"a\",\"e\",\"i\",\"o\",\"u\",\"A\",\"E\",\"I\",\"O\",\"U\"]:\n",
    "        v+=letters\n",
    "    else:\n",
    "        c+=letters\n",
    "print(v+c)"
   ]
  },
  {
   "cell_type": "markdown",
   "id": "992cf135",
   "metadata": {},
   "source": [
    "20) Create a dynamic calculator which asks for numbers and operator and return the answers"
   ]
  },
  {
   "cell_type": "code",
   "execution_count": 15,
   "id": "76177716",
   "metadata": {},
   "outputs": [
    {
     "name": "stdout",
     "output_type": "stream",
     "text": [
      "number 1 : 5\n",
      "*\n",
      "number 2 : 8\n",
      "40\n"
     ]
    }
   ],
   "source": [
    "num1=int(input(\"number 1 : \"))\n",
    "x=input()\n",
    "num2=int(input(\"number 2 : \"))\n",
    "if x==\"+\":\n",
    "    print(num1+num2)\n",
    "elif x==\"-\":\n",
    "    print(num1-num2)\n",
    "elif x==\"*\":\n",
    "    print(num1*num2)\n",
    "elif x==\"/\":\n",
    "    print(num1/num2)\n",
    "elif x==\"**\":\n",
    "    print(num1**num2)\n",
    "else:\n",
    "    print(\"You have given wrong input.\")"
   ]
  }
 ],
 "metadata": {
  "kernelspec": {
   "display_name": "Python 3 (ipykernel)",
   "language": "python",
   "name": "python3"
  },
  "language_info": {
   "codemirror_mode": {
    "name": "ipython",
    "version": 3
   },
   "file_extension": ".py",
   "mimetype": "text/x-python",
   "name": "python",
   "nbconvert_exporter": "python",
   "pygments_lexer": "ipython3",
   "version": "3.9.7"
  }
 },
 "nbformat": 4,
 "nbformat_minor": 5
}
